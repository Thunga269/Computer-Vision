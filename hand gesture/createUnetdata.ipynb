import os
import cv2
import numpy as np
from keras.models import load_model
from tensorflow.keras import backend as K 

def my_IoU(y_true, y_pred):
    y_pred = K.argmax(y_pred)
    y_pred = K.cast(y_pred, 'float32')
    y_pred = K.flatten(y_pred)
    y_true = K.flatten(y_true)
    intersection = K.sum(y_true * y_pred)
    IoU = intersection / (K.sum(y_true) + K.sum(y_pred) - intersection)
    return IoU

in_directory = input("Input directory:")
print("There are {} images in input directory".format(len(os.listdir(in_directory))))
out_directory = input("Output directory:")
out_folder = input("Output folder name:")

re_path = os.path.join(out_directory, out_folder)
if not(os.path.exists(re_path)):
    os.mkdir(re_path)
    
Unet = load_model(r"D:/Public data/Static/OUHands/Mobile_Unet_ 0.1203_ 0.76972.hdf5", custom_objects = {"my_IoU": my_IoU})

count = 0
for image in os.listdir(in_directory):
    image_path = os.path.join(in_directory, image)
    ori = cv2.imread(image_path)
    
    image_arr = cv2.imread(image_path)
    image_arr = cv2.resize(image_arr, (256, 256))
    image_arr = image_arr/255.0
    
    pred = Unet.predict(np.array([image_arr]))[0]
    pred = pred[:, :, 1]
    pred = np.where(pred > 0.3, 255, 0).astype("uint8")
    
    pred = cv2.medianBlur(pred, 3)
    origin_height, origin_width = ori.shape[0], ori.shape[1]
    pred = cv2.resize(pred, (origin_width, origin_height), cv2.INTER_NEAREST)
    contours, hierarchy = cv2.findContours(pred, 1, 2)
    check = 0
    if len(contours) != 0:
        c = max(contours, key=cv2.contourArea)
        check = 1
        pred = np.zeros_like(pred)
        cv2.drawContours(pred, contours, -1, color=255, thickness=-1)
        x, y, w, h = cv2.boundingRect(c)
    result = cv2.bitwise_and(ori, ori, mask=pred)
    if check == 1:
        result = result[max(0, y - int(0.1 * h)):min(origin_height, y+h + int(0.1 * h)),
                 max(0, x - int(0.1 * w)):min(origin_width, x+w + int(0.1 * w))]
    result = cv2.resize(result, (224, 224))
    cv2.imwrite(os.path.join(re_path, image), result)
    count += 1
    print("Done {} images".format(count))
    
