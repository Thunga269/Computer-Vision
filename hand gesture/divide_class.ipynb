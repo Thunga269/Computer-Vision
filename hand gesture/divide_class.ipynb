import os
import cv2
import numpy as np

in_directory = input("Input directory:")
print("There are {} images in input directory".format(len(os.listdir(in_directory))))
out_directory = input("Output directory:")
out_folder = input("Output folder name:")

re_path = os.path.join(out_directory, out_folder)
if not(os.path.exists(re_path)):
    os.mkdir(re_path)


count = 0
classes = ['A', 'B', 'C', 'D', 'E', 'F', 'H', 'I', 'J', 'K']

for image in os.listdir(in_directory):
    count += 1
    image_path = os.path.join(in_directory, image)
    image_class = image.split("-")[0]

    image_arr = cv2.imread(image_path)
    image_arr = cv2.resize(image_arr, (256, 256))

    out_class_dir = os.path.join(re_path, image_class)
    if not(os.path.exists(out_class_dir)):
        os.mkdir(out_class_dir)

    out_image_class_dir = os.path.join(out_class_dir, image)
    cv2.imwrite(out_image_class_dir, image_arr)
    print("Image {}".format(count))
    
