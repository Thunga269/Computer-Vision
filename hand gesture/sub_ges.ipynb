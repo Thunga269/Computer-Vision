import os
image_dir = r"D:\Public data\Static\OUHands\OUHANDS_train\train\hand_data\colour"

gesture = []
subject = []

for image in os.listdir(image_dir):
    ges, sub = image.split("-")[0], image.split("-")[1]

    if ges not in gesture:
        gesture.append(ges)
    if sub not in subject:
        subject.append(sub)

print(len(gesture))
print(gesture)

print(len(subject))
print(subject)
