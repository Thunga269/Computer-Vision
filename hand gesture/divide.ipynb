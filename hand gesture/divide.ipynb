import os, cv2

image_dir = r"D:/Public data/Static/OUHands/OUHANDS_train/train/hand_data/colour"
mask_dir = r"D:\Public data\Static\OUHands\OUHANDS_train\train\hand_data\segmentation"

train_dir = r"D:\Public data\Static\OUHands\OUHANDS_train\train\train"
val_dir = r"D:\Public data\Static\OUHands\OUHANDS_train\train\val"

train_image_dir = os.path.join(train_dir, "image")
val_image_dir = os.path.join(val_dir, "image")
train_mask_dir = os.path.join(train_dir, "mask")
val_mask_dir = os.path.join(val_dir, "mask")

if not(os.path.exists(train_image_dir)):
    os.mkdir(train_image_dir)

if not(os.path.exists(val_image_dir)):
    os.mkdir(val_image_dir)

if not(os.path.exists(train_mask_dir)):
    os.mkdir(train_mask_dir)

if not(os.path.exists(val_mask_dir)):
    os.mkdir(val_mask_dir)
print("Start image")
val_arr = ['ima', 'jha', 'jhb', 'jya']
for image in os.listdir(image_dir):
    sub = image.split("-")[1]
    image_path = os.path.join(image_dir, image)
    image_arr = cv2.imread(image_path)

    if sub in val_arr:
        cv2.imwrite(os.path.join(val_image_dir, image), image_arr)
    else:
        cv2.imwrite(os.path.join(train_image_dir, image), image_arr)
print("Start mask")
for mask in os.listdir(mask_dir):
    sub = mask.split("-")[1]
    image_path = os.path.join(mask_dir, mask)
    image_arr = cv2.imread(image_path)

    if sub in val_arr:
        cv2.imwrite(os.path.join(val_mask_dir, mask), image_arr)
    else:
        cv2.imwrite(os.path.join(train_mask_dir, mask), image_arr)
print("Done") 
